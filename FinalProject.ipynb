{
  "nbformat": 4,
  "nbformat_minor": 0,
  "metadata": {
    "colab": {
      "provenance": [],
      "include_colab_link": true
    },
    "kernelspec": {
      "name": "python3",
      "display_name": "Python 3"
    },
    "language_info": {
      "name": "python"
    }
  },
  "cells": [
    {
      "cell_type": "markdown",
      "metadata": {
        "id": "view-in-github",
        "colab_type": "text"
      },
      "source": [
        "<a href=\"https://colab.research.google.com/github/ecccrs/Final-Project/blob/main/FinalProject.ipynb\" target=\"_parent\"><img src=\"https://colab.research.google.com/assets/colab-badge.svg\" alt=\"Open In Colab\"/></a>"
      ]
    },
    {
      "cell_type": "markdown",
      "source": [
        "Erica Chen, Cameron Cloud, Raphaela Sills: Final Project DS 201"
      ],
      "metadata": {
        "id": "rC1MOm0ZFS__"
      }
    },
    {
      "cell_type": "markdown",
      "source": [
        "BRAIN STROKE DATASET: EDA and ML\n",
        "\n",
        "link to data: https://www.kaggle.com/datasets/jillanisofttech/brain-stroke-dataset"
      ],
      "metadata": {
        "id": "7X94Pdv9FHOr"
      }
    },
    {
      "cell_type": "code",
      "source": [
        "#Our Github\n",
        "!git clone https://github.com/ecccrs/Final-Project\n",
        "%cd Final-Project"
      ],
      "metadata": {
        "colab": {
          "base_uri": "https://localhost:8080/"
        },
        "id": "HVvu3E9tqUkX",
        "outputId": "2737c312-da9d-45ab-b466-d5bdf262bb7b"
      },
      "execution_count": null,
      "outputs": [
        {
          "output_type": "stream",
          "name": "stdout",
          "text": [
            "Cloning into 'Final-Project'...\n",
            "remote: Enumerating objects: 14, done.\u001b[K\n",
            "remote: Counting objects: 100% (14/14), done.\u001b[K\n",
            "remote: Compressing objects: 100% (10/10), done.\u001b[K\n",
            "remote: Total 14 (delta 0), reused 0 (delta 0), pack-reused 0\u001b[K\n",
            "Unpacking objects: 100% (14/14), done.\n",
            "/content/Final-Project\n"
          ]
        }
      ]
    },
    {
      "cell_type": "code",
      "source": [
        "# Python ≥3.5 is required\n",
        "import sys\n",
        "import os\n",
        "assert sys.version_info >= (3, 5)\n",
        "\n",
        "# Scikit-Learn ≥0.20 is required\n",
        "import sklearn\n",
        "assert sklearn.__version__ >= \"0.20\"\n",
        "#Scikit-learn for implemeting LinearRegression from a existing algorithm.\n",
        "from sklearn.linear_model import LinearRegression\n",
        "from sklearn.preprocessing import PolynomialFeatures\n",
        "from sklearn.preprocessing import StandardScaler\n",
        "from sklearn.pipeline import Pipeline\n",
        "from sklearn.linear_model import Ridge\n",
        "from sklearn.linear_model import Lasso\n",
        "from sklearn.metrics import mean_squared_error\n",
        "from sklearn.utils import resample\n",
        "\n",
        "# Common imports\n",
        "import numpy as np\n",
        "import pandas as pd\n",
        "\n",
        "from IPython.display import clear_output\n",
        "\n",
        "# To plot pretty figures\n",
        "%matplotlib inline\n",
        "import matplotlib as mpl\n",
        "import matplotlib.pyplot as plt\n",
        "mpl.rc('axes', labelsize=14)\n",
        "mpl.rc('xtick', labelsize=12)\n",
        "mpl.rc('ytick', labelsize=12)\n",
        "\n",
        "np.random.seed(42)\n",
        "\n",
        "import warnings\n",
        "warnings.filterwarnings('ignore')\n",
        "\n",
        "def computeCost(X, y, theta):\n",
        "    return 1/(2*y.size)*np.sum(np.square(X.dot(theta)-y))"
      ],
      "metadata": {
        "id": "aHcf9ZaPHMGi"
      },
      "execution_count": null,
      "outputs": []
    },
    {
      "cell_type": "code",
      "source": [
        "# Load data; view first 5 rows\n",
        "url = 'https://github.com/ecccrs/Final-Project/blob/main/data/brain_stroke.csv?raw=true' # raw version of data\n",
        "data = pd.read_csv(url)\n",
        "print(data.head(5))"
      ],
      "metadata": {
        "colab": {
          "base_uri": "https://localhost:8080/"
        },
        "id": "hyZnoLs2qTI1",
        "outputId": "a17e42b3-9315-41c5-ff5b-25cb87f81138"
      },
      "execution_count": null,
      "outputs": [
        {
          "output_type": "stream",
          "name": "stdout",
          "text": [
            "   gender   age  hypertension  heart_disease ever_married      work_type  \\\n",
            "0    Male  67.0             0              1          Yes        Private   \n",
            "1    Male  80.0             0              1          Yes        Private   \n",
            "2  Female  49.0             0              0          Yes        Private   \n",
            "3  Female  79.0             1              0          Yes  Self-employed   \n",
            "4    Male  81.0             0              0          Yes        Private   \n",
            "\n",
            "  Residence_type  avg_glucose_level   bmi   smoking_status  stroke  \n",
            "0          Urban             228.69  36.6  formerly smoked       1  \n",
            "1          Rural             105.92  32.5     never smoked       1  \n",
            "2          Urban             171.23  34.4           smokes       1  \n",
            "3          Rural             174.12  24.0     never smoked       1  \n",
            "4          Urban             186.21  29.0  formerly smoked       1  \n"
          ]
        }
      ]
    },
    {
      "cell_type": "markdown",
      "source": [
        "**PART I: EDA**"
      ],
      "metadata": {
        "id": "qTEd9XTgGU_1"
      }
    },
    {
      "cell_type": "markdown",
      "source": [
        "Data Overview"
      ],
      "metadata": {
        "id": "GwjbUsz7gBE8"
      }
    },
    {
      "cell_type": "code",
      "source": [
        "# Explore features\n",
        "data.info()\n",
        "\n",
        "# Describte the data\n",
        "data.describe()"
      ],
      "metadata": {
        "id": "puxSuiaQGIVR",
        "colab": {
          "base_uri": "https://localhost:8080/",
          "height": 622
        },
        "outputId": "fd9ce571-db52-4ae9-e390-46ad8f7cbee7"
      },
      "execution_count": null,
      "outputs": [
        {
          "output_type": "stream",
          "name": "stdout",
          "text": [
            "<class 'pandas.core.frame.DataFrame'>\n",
            "RangeIndex: 4981 entries, 0 to 4980\n",
            "Data columns (total 11 columns):\n",
            " #   Column             Non-Null Count  Dtype  \n",
            "---  ------             --------------  -----  \n",
            " 0   gender             4981 non-null   object \n",
            " 1   age                4981 non-null   float64\n",
            " 2   hypertension       4981 non-null   int64  \n",
            " 3   heart_disease      4981 non-null   int64  \n",
            " 4   ever_married       4981 non-null   object \n",
            " 5   work_type          4981 non-null   object \n",
            " 6   Residence_type     4981 non-null   object \n",
            " 7   avg_glucose_level  4981 non-null   float64\n",
            " 8   bmi                4981 non-null   float64\n",
            " 9   smoking_status     4981 non-null   object \n",
            " 10  stroke             4981 non-null   int64  \n",
            "dtypes: float64(3), int64(3), object(5)\n",
            "memory usage: 428.2+ KB\n"
          ]
        },
        {
          "output_type": "execute_result",
          "data": {
            "text/plain": [
              "               age  hypertension  heart_disease  avg_glucose_level  \\\n",
              "count  4981.000000   4981.000000    4981.000000        4981.000000   \n",
              "mean     43.419859      0.096165       0.055210         105.943562   \n",
              "std      22.662755      0.294848       0.228412          45.075373   \n",
              "min       0.080000      0.000000       0.000000          55.120000   \n",
              "25%      25.000000      0.000000       0.000000          77.230000   \n",
              "50%      45.000000      0.000000       0.000000          91.850000   \n",
              "75%      61.000000      0.000000       0.000000         113.860000   \n",
              "max      82.000000      1.000000       1.000000         271.740000   \n",
              "\n",
              "               bmi       stroke  \n",
              "count  4981.000000  4981.000000  \n",
              "mean     28.498173     0.049789  \n",
              "std       6.790464     0.217531  \n",
              "min      14.000000     0.000000  \n",
              "25%      23.700000     0.000000  \n",
              "50%      28.100000     0.000000  \n",
              "75%      32.600000     0.000000  \n",
              "max      48.900000     1.000000  "
            ],
            "text/html": [
              "\n",
              "  <div id=\"df-5b2f05aa-e386-457e-8cc7-413493b88dbd\">\n",
              "    <div class=\"colab-df-container\">\n",
              "      <div>\n",
              "<style scoped>\n",
              "    .dataframe tbody tr th:only-of-type {\n",
              "        vertical-align: middle;\n",
              "    }\n",
              "\n",
              "    .dataframe tbody tr th {\n",
              "        vertical-align: top;\n",
              "    }\n",
              "\n",
              "    .dataframe thead th {\n",
              "        text-align: right;\n",
              "    }\n",
              "</style>\n",
              "<table border=\"1\" class=\"dataframe\">\n",
              "  <thead>\n",
              "    <tr style=\"text-align: right;\">\n",
              "      <th></th>\n",
              "      <th>age</th>\n",
              "      <th>hypertension</th>\n",
              "      <th>heart_disease</th>\n",
              "      <th>avg_glucose_level</th>\n",
              "      <th>bmi</th>\n",
              "      <th>stroke</th>\n",
              "    </tr>\n",
              "  </thead>\n",
              "  <tbody>\n",
              "    <tr>\n",
              "      <th>count</th>\n",
              "      <td>4981.000000</td>\n",
              "      <td>4981.000000</td>\n",
              "      <td>4981.000000</td>\n",
              "      <td>4981.000000</td>\n",
              "      <td>4981.000000</td>\n",
              "      <td>4981.000000</td>\n",
              "    </tr>\n",
              "    <tr>\n",
              "      <th>mean</th>\n",
              "      <td>43.419859</td>\n",
              "      <td>0.096165</td>\n",
              "      <td>0.055210</td>\n",
              "      <td>105.943562</td>\n",
              "      <td>28.498173</td>\n",
              "      <td>0.049789</td>\n",
              "    </tr>\n",
              "    <tr>\n",
              "      <th>std</th>\n",
              "      <td>22.662755</td>\n",
              "      <td>0.294848</td>\n",
              "      <td>0.228412</td>\n",
              "      <td>45.075373</td>\n",
              "      <td>6.790464</td>\n",
              "      <td>0.217531</td>\n",
              "    </tr>\n",
              "    <tr>\n",
              "      <th>min</th>\n",
              "      <td>0.080000</td>\n",
              "      <td>0.000000</td>\n",
              "      <td>0.000000</td>\n",
              "      <td>55.120000</td>\n",
              "      <td>14.000000</td>\n",
              "      <td>0.000000</td>\n",
              "    </tr>\n",
              "    <tr>\n",
              "      <th>25%</th>\n",
              "      <td>25.000000</td>\n",
              "      <td>0.000000</td>\n",
              "      <td>0.000000</td>\n",
              "      <td>77.230000</td>\n",
              "      <td>23.700000</td>\n",
              "      <td>0.000000</td>\n",
              "    </tr>\n",
              "    <tr>\n",
              "      <th>50%</th>\n",
              "      <td>45.000000</td>\n",
              "      <td>0.000000</td>\n",
              "      <td>0.000000</td>\n",
              "      <td>91.850000</td>\n",
              "      <td>28.100000</td>\n",
              "      <td>0.000000</td>\n",
              "    </tr>\n",
              "    <tr>\n",
              "      <th>75%</th>\n",
              "      <td>61.000000</td>\n",
              "      <td>0.000000</td>\n",
              "      <td>0.000000</td>\n",
              "      <td>113.860000</td>\n",
              "      <td>32.600000</td>\n",
              "      <td>0.000000</td>\n",
              "    </tr>\n",
              "    <tr>\n",
              "      <th>max</th>\n",
              "      <td>82.000000</td>\n",
              "      <td>1.000000</td>\n",
              "      <td>1.000000</td>\n",
              "      <td>271.740000</td>\n",
              "      <td>48.900000</td>\n",
              "      <td>1.000000</td>\n",
              "    </tr>\n",
              "  </tbody>\n",
              "</table>\n",
              "</div>\n",
              "      <button class=\"colab-df-convert\" onclick=\"convertToInteractive('df-5b2f05aa-e386-457e-8cc7-413493b88dbd')\"\n",
              "              title=\"Convert this dataframe to an interactive table.\"\n",
              "              style=\"display:none;\">\n",
              "        \n",
              "  <svg xmlns=\"http://www.w3.org/2000/svg\" height=\"24px\"viewBox=\"0 0 24 24\"\n",
              "       width=\"24px\">\n",
              "    <path d=\"M0 0h24v24H0V0z\" fill=\"none\"/>\n",
              "    <path d=\"M18.56 5.44l.94 2.06.94-2.06 2.06-.94-2.06-.94-.94-2.06-.94 2.06-2.06.94zm-11 1L8.5 8.5l.94-2.06 2.06-.94-2.06-.94L8.5 2.5l-.94 2.06-2.06.94zm10 10l.94 2.06.94-2.06 2.06-.94-2.06-.94-.94-2.06-.94 2.06-2.06.94z\"/><path d=\"M17.41 7.96l-1.37-1.37c-.4-.4-.92-.59-1.43-.59-.52 0-1.04.2-1.43.59L10.3 9.45l-7.72 7.72c-.78.78-.78 2.05 0 2.83L4 21.41c.39.39.9.59 1.41.59.51 0 1.02-.2 1.41-.59l7.78-7.78 2.81-2.81c.8-.78.8-2.07 0-2.86zM5.41 20L4 18.59l7.72-7.72 1.47 1.35L5.41 20z\"/>\n",
              "  </svg>\n",
              "      </button>\n",
              "      \n",
              "  <style>\n",
              "    .colab-df-container {\n",
              "      display:flex;\n",
              "      flex-wrap:wrap;\n",
              "      gap: 12px;\n",
              "    }\n",
              "\n",
              "    .colab-df-convert {\n",
              "      background-color: #E8F0FE;\n",
              "      border: none;\n",
              "      border-radius: 50%;\n",
              "      cursor: pointer;\n",
              "      display: none;\n",
              "      fill: #1967D2;\n",
              "      height: 32px;\n",
              "      padding: 0 0 0 0;\n",
              "      width: 32px;\n",
              "    }\n",
              "\n",
              "    .colab-df-convert:hover {\n",
              "      background-color: #E2EBFA;\n",
              "      box-shadow: 0px 1px 2px rgba(60, 64, 67, 0.3), 0px 1px 3px 1px rgba(60, 64, 67, 0.15);\n",
              "      fill: #174EA6;\n",
              "    }\n",
              "\n",
              "    [theme=dark] .colab-df-convert {\n",
              "      background-color: #3B4455;\n",
              "      fill: #D2E3FC;\n",
              "    }\n",
              "\n",
              "    [theme=dark] .colab-df-convert:hover {\n",
              "      background-color: #434B5C;\n",
              "      box-shadow: 0px 1px 3px 1px rgba(0, 0, 0, 0.15);\n",
              "      filter: drop-shadow(0px 1px 2px rgba(0, 0, 0, 0.3));\n",
              "      fill: #FFFFFF;\n",
              "    }\n",
              "  </style>\n",
              "\n",
              "      <script>\n",
              "        const buttonEl =\n",
              "          document.querySelector('#df-5b2f05aa-e386-457e-8cc7-413493b88dbd button.colab-df-convert');\n",
              "        buttonEl.style.display =\n",
              "          google.colab.kernel.accessAllowed ? 'block' : 'none';\n",
              "\n",
              "        async function convertToInteractive(key) {\n",
              "          const element = document.querySelector('#df-5b2f05aa-e386-457e-8cc7-413493b88dbd');\n",
              "          const dataTable =\n",
              "            await google.colab.kernel.invokeFunction('convertToInteractive',\n",
              "                                                     [key], {});\n",
              "          if (!dataTable) return;\n",
              "\n",
              "          const docLinkHtml = 'Like what you see? Visit the ' +\n",
              "            '<a target=\"_blank\" href=https://colab.research.google.com/notebooks/data_table.ipynb>data table notebook</a>'\n",
              "            + ' to learn more about interactive tables.';\n",
              "          element.innerHTML = '';\n",
              "          dataTable['output_type'] = 'display_data';\n",
              "          await google.colab.output.renderOutput(dataTable, element);\n",
              "          const docLink = document.createElement('div');\n",
              "          docLink.innerHTML = docLinkHtml;\n",
              "          element.appendChild(docLink);\n",
              "        }\n",
              "      </script>\n",
              "    </div>\n",
              "  </div>\n",
              "  "
            ]
          },
          "metadata": {},
          "execution_count": 5
        }
      ]
    },
    {
      "cell_type": "code",
      "source": [
        "# See if there are any null values \n",
        "data.isnull().sum() #Number of null values = 0\n",
        "\n",
        "# See if there are any duplicates\n",
        "data.duplicated().sum() # Number of duplicates = 0"
      ],
      "metadata": {
        "id": "U6PdnF8d72Mh",
        "colab": {
          "base_uri": "https://localhost:8080/"
        },
        "outputId": "42d47beb-77ba-4f75-c413-a1c346314891"
      },
      "execution_count": null,
      "outputs": [
        {
          "output_type": "execute_result",
          "data": {
            "text/plain": [
              "0"
            ]
          },
          "metadata": {},
          "execution_count": 6
        }
      ]
    },
    {
      "cell_type": "code",
      "source": [
        "# Create lists (will turn into dataframe)\n",
        "col_names = list(data.columns)\n",
        "unique_values = []\n",
        "\n",
        "# Identify number of unique values per column\n",
        "unique_values.append(len(data['gender'].unique()))\n",
        "unique_values.append(len(data['age'].unique())) \n",
        "unique_values.append(len(data['hypertension'].unique()))\n",
        "unique_values.append(len(data['heart_disease'].unique())) \n",
        "unique_values.append(len(data['ever_married'].unique())) \n",
        "unique_values.append(len(data['work_type'].unique())) \n",
        "unique_values.append(len(data['Residence_type'].unique())) \n",
        "unique_values.append(len(data['avg_glucose_level'].unique())) \n",
        "unique_values.append(len(data['bmi'].unique())) \n",
        "unique_values.append(len(data['smoking_status'].unique())) \n",
        "unique_values.append(len(data['stroke'].unique())) \n",
        "\n",
        "# Create dataframe\n",
        "col_names_df = pd.DataFrame(col_names, columns = ['column_name']) # list to df\n",
        "unique_df = pd.DataFrame(unique_values, columns = ['number_of_unique']) # list to df\n",
        "df = pd.concat([col_names_df, unique_df], axis=1)\n",
        "\n",
        "print(df)"
      ],
      "metadata": {
        "colab": {
          "base_uri": "https://localhost:8080/"
        },
        "id": "ghRoewqb5idj",
        "outputId": "9737e630-b166-4119-ec73-9c600c4a5543"
      },
      "execution_count": null,
      "outputs": [
        {
          "output_type": "stream",
          "name": "stdout",
          "text": [
            "          column_name  number_of_unique\n",
            "0              gender                 2\n",
            "1                 age               104\n",
            "2        hypertension                 2\n",
            "3       heart_disease                 2\n",
            "4        ever_married                 2\n",
            "5           work_type                 4\n",
            "6      Residence_type                 2\n",
            "7   avg_glucose_level              3895\n",
            "8                 bmi               342\n",
            "9      smoking_status                 4\n",
            "10             stroke                 2\n"
          ]
        }
      ]
    },
    {
      "cell_type": "markdown",
      "source": [
        "Data breakdown"
      ],
      "metadata": {
        "id": "twOmFxgLgYnn"
      }
    },
    {
      "cell_type": "code",
      "source": [
        "# Gender breakdown\n",
        "occur = data.groupby(['gender']).size()\n",
        "print(occur)"
      ],
      "metadata": {
        "colab": {
          "base_uri": "https://localhost:8080/"
        },
        "id": "-ge5-At7MGBO",
        "outputId": "a400d6af-3848-462d-f6a1-302794f5e289"
      },
      "execution_count": null,
      "outputs": [
        {
          "output_type": "stream",
          "name": "stdout",
          "text": [
            "gender\n",
            "Female    2907\n",
            "Male      2074\n",
            "dtype: int64\n"
          ]
        }
      ]
    },
    {
      "cell_type": "code",
      "source": [
        "# hypertension breakdown (0 = No hypertension)\n",
        "occur = data.groupby(['hypertension']).size()\n",
        "print(occur)"
      ],
      "metadata": {
        "colab": {
          "base_uri": "https://localhost:8080/"
        },
        "id": "fC1D15d_ga0x",
        "outputId": "bcc4bbc5-58ef-4a6b-b67b-b4a1f88e5caf"
      },
      "execution_count": null,
      "outputs": [
        {
          "output_type": "stream",
          "name": "stdout",
          "text": [
            "hypertension\n",
            "0    4502\n",
            "1     479\n",
            "dtype: int64\n"
          ]
        }
      ]
    },
    {
      "cell_type": "code",
      "source": [
        "# ever_married breakdown\n",
        "occur = data.groupby(['ever_married']).size()\n",
        "print(occur)"
      ],
      "metadata": {
        "colab": {
          "base_uri": "https://localhost:8080/"
        },
        "id": "54Iuz23Zge19",
        "outputId": "c1a860a7-0144-487f-dde1-e687380e4095"
      },
      "execution_count": null,
      "outputs": [
        {
          "output_type": "stream",
          "name": "stdout",
          "text": [
            "ever_married\n",
            "No     1701\n",
            "Yes    3280\n",
            "dtype: int64\n"
          ]
        }
      ]
    },
    {
      "cell_type": "code",
      "source": [
        "# work_type breakdown\n",
        "occur = data.groupby(['work_type']).size()\n",
        "print(occur)"
      ],
      "metadata": {
        "colab": {
          "base_uri": "https://localhost:8080/"
        },
        "id": "gsOsRoHtghuy",
        "outputId": "ff81fb3b-d891-44ff-a71e-bab80d5b7a12"
      },
      "execution_count": null,
      "outputs": [
        {
          "output_type": "stream",
          "name": "stdout",
          "text": [
            "work_type\n",
            "Govt_job          644\n",
            "Private          2860\n",
            "Self-employed     804\n",
            "children          673\n",
            "dtype: int64\n"
          ]
        }
      ]
    },
    {
      "cell_type": "code",
      "source": [
        "# Residence_type breakdown\n",
        "occur = data.groupby(['Residence_type']).size()\n",
        "print(occur)"
      ],
      "metadata": {
        "colab": {
          "base_uri": "https://localhost:8080/"
        },
        "id": "eoOVu-mwgjdl",
        "outputId": "512740fe-22c8-4714-a71e-386673b91dc2"
      },
      "execution_count": null,
      "outputs": [
        {
          "output_type": "stream",
          "name": "stdout",
          "text": [
            "Residence_type\n",
            "Rural    2449\n",
            "Urban    2532\n",
            "dtype: int64\n"
          ]
        }
      ]
    },
    {
      "cell_type": "code",
      "source": [
        "# smoking_status breakdown\n",
        "occur = data.groupby(['smoking_status']).size()\n",
        "print(occur)"
      ],
      "metadata": {
        "colab": {
          "base_uri": "https://localhost:8080/"
        },
        "id": "YZx_-6c9gldN",
        "outputId": "a08d9d2d-ddf8-4baf-e2d5-9bd37b1f1099"
      },
      "execution_count": null,
      "outputs": [
        {
          "output_type": "stream",
          "name": "stdout",
          "text": [
            "smoking_status\n",
            "Unknown            1500\n",
            "formerly smoked     867\n",
            "never smoked       1838\n",
            "smokes              776\n",
            "dtype: int64\n"
          ]
        }
      ]
    },
    {
      "cell_type": "code",
      "source": [
        "# stroke breakdown (0 = No stroke)\n",
        "occur = data.groupby(['stroke']).size()\n",
        "print(occur)"
      ],
      "metadata": {
        "colab": {
          "base_uri": "https://localhost:8080/"
        },
        "id": "FpAPW728gnsi",
        "outputId": "f5ba74ab-137b-4db1-916b-5c5f7a9a26a6"
      },
      "execution_count": null,
      "outputs": [
        {
          "output_type": "stream",
          "name": "stdout",
          "text": [
            "stroke\n",
            "0    4733\n",
            "1     248\n",
            "dtype: int64\n"
          ]
        }
      ]
    },
    {
      "cell_type": "code",
      "source": [
        "# Visualization: age histogram\n",
        "data['age'].plot.hist(grid=False, bins=20, rwidth=0.9, color ='#607c8e')\n",
        "plt.title('Age distribution')"
      ],
      "metadata": {
        "colab": {
          "base_uri": "https://localhost:8080/",
          "height": 302
        },
        "id": "5EYQCeCXgqEa",
        "outputId": "5a2d2105-b82e-4dd3-9c45-c13f6305a394"
      },
      "execution_count": null,
      "outputs": [
        {
          "output_type": "execute_result",
          "data": {
            "text/plain": [
              "Text(0.5, 1.0, 'Age distribution')"
            ]
          },
          "metadata": {},
          "execution_count": 15
        },
        {
          "output_type": "display_data",
          "data": {
            "text/plain": [
              "<Figure size 432x288 with 1 Axes>"
            ],
            "image/png": "[encoded data removed]"
          },
          "metadata": {
            "needs_background": "light"
          }
        }
      ]
    },
    {
      "cell_type": "code",
      "source": [
        "# Vizualization avg_glucose_level distribution\n",
        "data['avg_glucose_level'].plot.hist(grid=False, bins=20, rwidth=0.9, color='#607c8e')\n",
        "plt.title('Average glucose level distribution')"
      ],
      "metadata": {
        "colab": {
          "base_uri": "https://localhost:8080/",
          "height": 302
        },
        "id": "_SMXm4dmgsbu",
        "outputId": "9cd90ac7-df76-4f27-9f3a-c236f475be2a"
      },
      "execution_count": null,
      "outputs": [
        {
          "output_type": "execute_result",
          "data": {
            "text/plain": [
              "Text(0.5, 1.0, 'Average glucose level distribution')"
            ]
          },
          "metadata": {},
          "execution_count": 16
        },
        {
          "output_type": "display_data",
          "data": {
            "text/plain": [
              "<Figure size 432x288 with 1 Axes>"
            ],
            "image/png": "[encoded data removed]"
          },
          "metadata": {
            "needs_background": "light"
          }
        }
      ]
    },
    {
      "cell_type": "code",
      "source": [
        "# Visualization bmi distibution\n",
        "data['bmi'].plot.hist(grid=False, bins=20, rwidth=0.9, color='#607c8e')\n",
        "plt.title('BMI distribution')"
      ],
      "metadata": {
        "colab": {
          "base_uri": "https://localhost:8080/",
          "height": 302
        },
        "id": "tHrctx2KgvD4",
        "outputId": "af485c99-c017-4e68-fb34-2aa115b97973"
      },
      "execution_count": null,
      "outputs": [
        {
          "output_type": "execute_result",
          "data": {
            "text/plain": [
              "Text(0.5, 1.0, 'BMI distribution')"
            ]
          },
          "metadata": {},
          "execution_count": 17
        },
        {
          "output_type": "display_data",
          "data": {
            "text/plain": [
              "<Figure size 432x288 with 1 Axes>"
            ],
            "image/png": "[encoded data removed]"
          },
          "metadata": {
            "needs_background": "light"
          }
        }
      ]
    },
    {
      "cell_type": "markdown",
      "source": [
        "**PART II:ML MODEL TRAINING**"
      ],
      "metadata": {
        "id": "FfVT6QUpGNbW"
      }
    },
    {
      "cell_type": "code",
      "source": [
        "data['gender'] = data['gender'].map({'Female':1,'Male':0})\n",
        "data['ever_married'] = data['ever_married'].map({'Yes': 1, 'No': 0})\n",
        "data['work_type'] = data['work_type'].map({'Private': 0, 'Self-employed': 1, 'Govt_job':2, 'children':3})\n",
        "data['Residence_type'] = data['Residence_type'].map({'Urban': 1, 'Rural':0})\n",
        "data['smoking_status'] = data['smoking_status'].map({'formerly smoked':0, 'never smoked':1, 'smokes':2, 'Unknown':3})"
      ],
      "metadata": {
        "id": "y0oZETLeGIpx"
      },
      "execution_count": null,
      "outputs": []
    },
    {
      "cell_type": "code",
      "source": [
        "X=data.drop(['stroke'],axis=1)\n",
        "y=data.stroke.values\n",
        "\n",
        "from sklearn.linear_model import LogisticRegression\n",
        "log_reg = LogisticRegression(random_state=42)\n",
        "log_reg.fit(X, y)\n",
        "\n",
        "from sklearn.model_selection import train_test_split\n",
        "X_train, X_test, y_train, y_test = train_test_split(X, y, test_size=0.30, random_state=42)"
      ],
      "metadata": {
        "id": "7paeknE9OxAw"
      },
      "execution_count": null,
      "outputs": []
    },
    {
      "cell_type": "code",
      "source": [
        "from sklearn.metrics import confusion_matrix\n",
        "from sklearn import metrics\n",
        "import matplotlib.pyplot as plt\n",
        "import seaborn as sns\n",
        "\n",
        "log_reg=LogisticRegression(random_state=5)\n",
        "log_reg.fit(X_train,y_train)\n",
        "y_pred=log_reg.predict(X_test)\n",
        "y_pred=log_reg.predict(X_test)\n",
        "print(confusion_matrix(y_test,y_pred),\"\\n\",\"Accuracy = \",metrics.accuracy_score(y_test,y_pred))\n",
        "print('train_score = ',log_reg.score(X_train, y_train),'\\n','Test_score = ',log_reg.score(X_test,y_test))\n",
        "Log_pred=[log_reg]\n",
        "for i in Log_pred:\n",
        "    y_pred=i.predict(X_test)\n",
        "    sns.heatmap(confusion_matrix(y_test,y_pred),annot=True)\n",
        "    plt.xlabel('y_pred')\n",
        "    plt.ylabel('y_test')\n",
        "    plt.title(i)"
      ],
      "metadata": {
        "id": "mO5jMw2zOxWG",
        "colab": {
          "base_uri": "https://localhost:8080/",
          "height": 391
        },
        "outputId": "4371002c-c99c-4396-9e4a-e4f8492875c8"
      },
      "execution_count": null,
      "outputs": [
        {
          "output_type": "stream",
          "name": "stdout",
          "text": [
            "[[1417    0]\n",
            " [  78    0]] \n",
            " Accuracy =  0.9478260869565217\n",
            "train_score =  0.9512335054503729 \n",
            " Test_score =  0.9478260869565217\n"
          ]
        },
        {
          "output_type": "display_data",
          "data": {
            "text/plain": [
              "<Figure size 432x288 with 2 Axes>"
            ],
            "image/png": "[encoded data removed]"
          },
          "metadata": {
            "needs_background": "light"
          }
        }
      ]
    }
  ]
}